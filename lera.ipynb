{
 "cells": [
  {
   "cell_type": "code",
   "execution_count": null,
   "metadata": {},
   "outputs": [],
   "source": [
    "query=(\"\"\"CREATE TABLE IF NOT EXISTS bootcamp.schools\n",
    "            (school_id INT NOT NULL PRIMARY KEY,\n",
    "            school_name VARCHAR(50) NOT NULL,\n",
    "            website VARCHAR(250)\n",
    "            )\"\"\")\n",
    "cursor.execute(query)\n",
    "\n",
    "query=(\"\"\"CREATE TABLE IF NOT EXISTS bootcamp.programs\n",
    "            (program_id INT NOT NULL PRIMARY KEY,\n",
    "            program_name VARCHAR(50) NOT NULL,\n",
    "            school_id INT NOT NULL,\n",
    "            FOREIGN KEY (school_id) REFERENCES school(school_id)\n",
    "            )\"\"\")\n",
    "cursor.execute(query)\n",
    "\n",
    "query=(\"\"\"CREATE TABLE IF NOT EXISTS bootcamp.comments\n",
    "            (comment_id INT NOT NULL PRIMARY KEY,\n",
    "            anonymous boolean NOT NULL,\n",
    "            year TINYINT,\n",
    "            job_title VARCHAR(250),\n",
    "            alumni NOT NULL boolean,\n",
    "            comment_date date NOT NULL,\n",
    "            program_id INT NOT NULL,\n",
    "            overall_score float NOT NULL,\n",
    "            curric_score float NOT NULL,\n",
    "            job_score float NOT NULL,\n",
    "            school_id INT NOT NULL,\n",
    "            FOREIGN KEY (program_id) REFERENCES programs(program_id),\n",
    "            FOREIGN KEY (school_id) REFERENCES schools(school_id)\n",
    "            )\"\"\")\n",
    "cursor.execute(query)\n",
    "\n",
    "query = (\"\"\" CREATE TABLE IF NOT EXISTS bootcamp.location\n",
    "            (location_id INT NOT NULL PRIMARY KEY, \n",
    "            country_id INT NOT NULL, \n",
    "            country_name VARCHAR(35) NOT NULL,\n",
    "            city_id INT NOT NULL, \n",
    "            city_name VARCHAR(35) NOT NULL, \n",
    "            school_id INT NOT NULL,\n",
    "            FOREIGN KEY (school_id) REFERENCES schools(school_id)\n",
    "            )\"\"\")\n",
    "cursor.execute(query)"
   ]
  }
 ],
 "metadata": {
  "kernelspec": {
   "display_name": "base",
   "language": "python",
   "name": "python3"
  },
  "language_info": {
   "name": "python",
   "version": "3.11.4"
  }
 },
 "nbformat": 4,
 "nbformat_minor": 2
}
